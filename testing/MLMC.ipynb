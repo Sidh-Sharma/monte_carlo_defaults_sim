{
 "cells": [
  {
   "cell_type": "markdown",
   "id": "1a24f319",
   "metadata": {},
   "source": [
    "# Monte Carlo Default Simulation\n",
    "\n",
    "We aim to estimate the expected loss up to time T:\n",
    "\n",
    "$$E[L_T] = E\\left[\\sum_{i=1}^{N} \\ell_i \\cdot 1\\{T_i \\leq T\\}\\right]$$\n",
    "\n",
    "Where:\n",
    "\n",
    "- $\\ell_i$ represents the loss amount from default $i$\n",
    "- $T_i$ represents the default time for firm $i$\n",
    "- $1\\{T_i \\leq T\\}$ is the indicator function for defaults occurring before time $T$\n",
    "\n",
    "## Model Components\n",
    "\n",
    "### Firm Intensity Process\n",
    "Each firm's default intensity is modeled as:\n",
    "\n",
    "$$\\lambda_t^i = X_i + \\sum_{j=1}^{J} w_{ij} Y_t^j$$\n",
    "\n",
    "Where:\n",
    "- $X_i$ is the idiosyncratic component for firm $i$\n",
    "- $Y_t^j$ is the sectoral intensity component\n",
    "- $w_{ij}$ are loading factors representing sensitivity to sectoral factors\n",
    "\n",
    "### Sectoral Intensity Dynamics with Contagion\n",
    "Each sector follows a process with mean reversion, volatility, and contagion effects:\n",
    "\n",
    "$$dY_t^j = \\kappa_j(\\theta_j - Y_t^j)dt + \\sqrt{Y_t^j}\\sum_{k=1}^{J}\\sigma_{jk}dW_t^k + \\sum_{k=1}^{J}\\delta_{jk}dL_t^k$$\n",
    "\n",
    "Where:\n",
    "- $\\kappa_j$ is the mean reversion speed\n",
    "- $\\theta_j$ is the long-term mean level\n",
    "- $\\sigma_{jk}$ are volatility parameters\n",
    "- $W_t^k$ are standard Brownian motions\n",
    "- $\\delta_{jk}$ are contagion coefficients\n",
    "- $L_t^k$ are loss processes for each sector\n"
   ]
  },
  {
   "cell_type": "markdown",
   "id": "9a7c4e86",
   "metadata": {},
   "source": [
    "## In this notebook, we shall use Multilevel Monte Carlo ideas.\n",
    "\n",
    "Our main references are Xia (2024), Giles (2008) and Giles & Haji-Ali (2022).\n",
    "We begin with a basic raw MLMC implementation, imporving features as we go - subsampling, adaptive levels, milestein discretization etc. "
   ]
  },
  {
   "cell_type": "code",
   "execution_count": null,
   "id": "0956d618",
   "metadata": {},
   "outputs": [],
   "source": []
  }
 ],
 "metadata": {
  "kernelspec": {
   "display_name": "Python 3",
   "language": "python",
   "name": "python3"
  },
  "language_info": {
   "codemirror_mode": {
    "name": "ipython",
    "version": 3
   },
   "file_extension": ".py",
   "mimetype": "text/x-python",
   "name": "python",
   "nbconvert_exporter": "python",
   "pygments_lexer": "ipython3",
   "version": "3.13.3"
  }
 },
 "nbformat": 4,
 "nbformat_minor": 5
}
